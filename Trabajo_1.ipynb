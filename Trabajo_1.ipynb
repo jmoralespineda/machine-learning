{
  "nbformat": 4,
  "nbformat_minor": 0,
  "metadata": {
    "colab": {
      "provenance": [],
      "toc_visible": true,
      "authorship_tag": "ABX9TyOaueii2pA6iEjWXi0fw6qh",
      "include_colab_link": true
    },
    "kernelspec": {
      "name": "python3",
      "display_name": "Python 3"
    },
    "language_info": {
      "name": "python"
    }
  },
  "cells": [
    {
      "cell_type": "markdown",
      "metadata": {
        "id": "view-in-github",
        "colab_type": "text"
      },
      "source": [
        "<a href=\"https://colab.research.google.com/github/jmoralespineda/machine-learning/blob/main/Trabajo_1.ipynb\" target=\"_parent\"><img src=\"https://colab.research.google.com/assets/colab-badge.svg\" alt=\"Open In Colab\"/></a>"
      ]
    },
    {
      "cell_type": "markdown",
      "source": [
        "PRINCIPIOS DE PROBABILIDAD\n",
        "\n",
        "$ P(A|B=) = p(B\\A)P(A)//\n",
        "P(B)\n",
        "\n"
      ],
      "metadata": {
        "id": "8F540c2WWAch"
      }
    },
    {
      "cell_type": "code",
      "source": [
        "import numpy as np\n",
        "\n",
        "def mybayes(list_event, priors):\n",
        "    \"\"\"\n",
        "    Estimación posterior desde Bayes\n",
        "    \"\"\"\n",
        "\n",
        "    # Número de cajas\n",
        "    nB = len(list_event)\n",
        "\n",
        "    # Eventos de cada caja\n",
        "    even_ = np.zeros(nB)\n",
        "\n",
        "    # Encontrar todas las frutas distintas\n",
        "    frutas = set()\n",
        "    for sublista in list_event:\n",
        "        frutas.update(sublista)\n",
        "    frutas = list(frutas)\n",
        "\n",
        "    # Calcular probabilidades marginales de cada fruta\n",
        "    marginales = np.zeros(len(frutas))\n",
        "    for i, fruta in enumerate(frutas):\n",
        "        marginales[i] = sum([priors[b] * list_event[b].count(fruta) / len(list_event[b]) for b in range(nB)])\n",
        "        print(f'P(F={fruta}) = {marginales[i]:.4f}')\n",
        "\n",
        "    # Calcular las probabilidades condicionales\n",
        "    for b in range(nB):\n",
        "        # Total de frutas en la caja b\n",
        "        num_total = len(list_event[b])\n",
        "\n",
        "        for fruta in np.unique(list_event[b]):\n",
        "            index_fruta = frutas.index(fruta)\n",
        "            num_veces_f = list_event[b].count(fruta)  # Cuántas veces la fruta fruta está en la caja b-ésima\n",
        "\n",
        "            verosim = num_veces_f / num_total\n",
        "            posterior = (verosim * priors[b]) / marginales[index_fruta]\n",
        "            print(f'P(B = {chr(65+b)} | F={fruta}) = {posterior:.4f}')"
      ],
      "metadata": {
        "id": "NzE3l5tr60a9"
      },
      "execution_count": 1,
      "outputs": []
    },
    {
      "cell_type": "code",
      "source": [
        "list_event = [[1,1,0,0,0,0,0,0], [1,1,1,0,2,2], [2,1,0]]\n",
        "priors = np.array([0.3, 0.6, 0.1])\n",
        "\n",
        "mybayes(list_event, priors)"
      ],
      "metadata": {
        "colab": {
          "base_uri": "https://localhost:8080/"
        },
        "id": "gZorbq3m66WU",
        "outputId": "4b5afcca-4c36-43d0-bc04-a09997b6c171"
      },
      "execution_count": 2,
      "outputs": [
        {
          "output_type": "stream",
          "name": "stdout",
          "text": [
            "P(F=0) = 0.3583\n",
            "P(F=1) = 0.4083\n",
            "P(F=2) = 0.2333\n",
            "P(B = A | F=0) = 0.6279\n",
            "P(B = A | F=1) = 0.1837\n",
            "P(B = B | F=0) = 0.2791\n",
            "P(B = B | F=1) = 0.7347\n",
            "P(B = B | F=2) = 0.8571\n",
            "P(B = C | F=0) = 0.0930\n",
            "P(B = C | F=1) = 0.0816\n",
            "P(B = C | F=2) = 0.1429\n"
          ]
        }
      ]
    },
    {
      "cell_type": "code",
      "source": [
        "import numpy as np\n",
        "import matplotlib.pyplot as plt\n",
        "\n",
        "m1 = 0.1\n",
        "v1 = 0.8\n",
        "n1 = 100\n",
        "x1 =np.random.normal(m1,v1, n1)\n",
        "\n",
        "m2 = 1.5\n",
        "v2 = 0.6\n",
        "n2 = 80\n",
        "x2 =np.random.normal(m2,v2,n2)\n",
        "\n",
        "m_y1 = 0.5\n",
        "v_y1 = 0.15\n",
        "n_y1 = n1\n",
        "y1 = np.random.normal(m_y1,v_y1, n_y1)\n",
        "\n",
        "m_y2 = 1.5\n",
        "v_y2 = 0.15\n",
        "n_y2 = n2\n",
        "y2 = np.random.normal(m_y2,v_y2, n_y2)"
      ],
      "metadata": {
        "id": "qNYfeYA-7Q8F"
      },
      "execution_count": null,
      "outputs": []
    },
    {
      "cell_type": "code",
      "source": [
        "### P(Y)\n",
        "\n",
        "ind_y1 = [i for i,valor in enumerate(y1) if valor<1]\n",
        "P_y1 = len(ind_y1)\n",
        "\n",
        "ind_y2 = [i for i,valor in enumerate(y2) if valor>=1]\n",
        "P_y2 = len(ind_y2)\n",
        "\n",
        "### P(X)\n",
        "\n",
        "# primero dividimos en 9 subintervalos encontrando la distancia de cada uno\n",
        "\n",
        "X = np.concatenate((x1,x2))\n",
        "dist = np.abs(max(X)-min(X))/9\n",
        "P_X = np.zeros(9)\n",
        "\n",
        "for i in range(len(P_X)):\n",
        "    P_X[i] = sum(1 for elemento in X if min(X) + i * dist < elemento < min(X) + (i + 1) * dist) / len(X)\n",
        "### P(X|Y=1)\n",
        "\n",
        "P_XY1 = np.zeros(9)\n",
        "\n",
        "for i in range(len(P_XY1)):\n",
        "    P_XY1[i] =  sum(1 for elemento in x1 if min(x1) + i*dist < elemento < min(x1)+(i+1)*dist)/len(x1)"
      ],
      "metadata": {
        "id": "l6h41Qki7WC1"
      },
      "execution_count": null,
      "outputs": []
    },
    {
      "cell_type": "code",
      "source": [
        "fig, axs = plt.subplot(2,2) plt.s\n",
        "axs[0,0].scatter(x1, y1, c = 'b')\n",
        "axs[0,0].scatter(x2, y2, c = 'b')\n",
        "axs[0,0].set_xticks([])\n",
        "axs[0,0].set_xlabel('X')\n",
        "axs[0,0].set_yticks([])\n",
        "axs[0,0].set_ylabel('Y')\n",
        "\n",
        "# P(Y)\n",
        "axs[0,1].barh([\"$Y=1$\", \"$Y=2$\"], [P_y1, P_y2])\n",
        "axs[0,1].set_xticks([])\n",
        "\n",
        "\n",
        "\n",
        "# P(X)\n",
        "distri = np.linspace(min(X), max(X), len(P_X))\n",
        "axs[1,0].bar(distri, P_X, width=0.5)\n",
        "axs[1,0].set_xticks([])\n",
        "axs[0,0].set_xlabel('X')\n",
        "\n",
        "\n",
        "# P(X|Y=1)\n",
        "axs[1,1].bar(distri, P_XY1, width = 0.5)\n",
        "axs[1,1].set_xticks([])\n",
        "axs[0,0].set_xlabel('X')"
      ],
      "metadata": {
        "id": "Af4-641h7duF"
      },
      "execution_count": null,
      "outputs": []
    },
    {
      "cell_type": "code",
      "source": [
        "Text(0.5, 0, 'X')"
      ],
      "metadata": {
        "id": "GOEjw8ER7wUF"
      },
      "execution_count": null,
      "outputs": []
    },
    {
      "cell_type": "code",
      "source": [
        "def dist_normal(mu, varianza, x):\n",
        "    exponente = -((x - mu) ** 2) / (2 * varianza)\n",
        "    coeficiente = 1 / np.sqrt(2 * np.pi * varianza)\n",
        "    return coeficiente * np.exp(exponente)"
      ],
      "metadata": {
        "id": "HYu47RHh76pV"
      },
      "execution_count": null,
      "outputs": []
    },
    {
      "cell_type": "code",
      "source": [
        "fig, axs = plt.subplots(2,2)\n",
        "axs[0,0].scatter(x1, y1, c = 'b')\n",
        "axs[0,0].scatter(x2, y2, c = 'b')\n",
        "axs[0,0].set_xticks([])\n",
        "axs[0,0].set_xlabel('X')\n",
        "axs[0,0].set_yticks([])\n",
        "axs[0,0].set_ylabel('Y')\n",
        "\n",
        "# P(Y)\n",
        "axs[0,1].barh([\"$Y=1$\", \"$Y=2$\"], [P_y1, P_y2])\n",
        "axs[0,1].set_xticks([])\n",
        "\n",
        "# P(X)\n",
        "ejeX = np.linspace(min(X),max(X),100)\n",
        "distri = np.linspace(min(X), max(X), len(P_X))\n",
        "axs[1,0].plot(ejeX, dist_normal(m1+m2,v1+v2,ejeX))\n",
        "axs[1,0].bar(distri, P_X, width=0.5)\n",
        "axs[1,0].set_xticks([])\n",
        "axs[0,0].set_xlabel('X')\n",
        "\n",
        "\n",
        "# P(X|Y=1)\n",
        "ejeX2 = np.linspace(min(x1), max(x1),100)\n",
        "axs[1,1].plot(ejeX2, dist_normal(m1,v1,ejeX2))\n",
        "axs[1,1].bar(distri, P_XY1, width = 0.5)\n",
        "axs[1,1].set_xticks([])\n",
        "axs[0,0].set_xlabel('X')"
      ],
      "metadata": {
        "id": "oSHjBrdM7_JV"
      },
      "execution_count": null,
      "outputs": []
    },
    {
      "cell_type": "code",
      "source": [
        "Text(0.5, 0, 'X')"
      ],
      "metadata": {
        "id": "HMTdbFxb8AOk"
      },
      "execution_count": null,
      "outputs": []
    }
  ]
}