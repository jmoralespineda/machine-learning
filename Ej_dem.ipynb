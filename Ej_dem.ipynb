{
  "nbformat": 4,
  "nbformat_minor": 0,
  "metadata": {
    "colab": {
      "provenance": [],
      "authorship_tag": "ABX9TyN0bsRwei8lvdkoJGrbcunH",
      "include_colab_link": true
    },
    "kernelspec": {
      "name": "python3",
      "display_name": "Python 3"
    },
    "language_info": {
      "name": "python"
    }
  },
  "cells": [
    {
      "cell_type": "markdown",
      "metadata": {
        "id": "view-in-github",
        "colab_type": "text"
      },
      "source": [
        "<a href=\"https://colab.research.google.com/github/jmoralespineda/machine-learning/blob/main/Ej_dem.ipynb\" target=\"_parent\"><img src=\"https://colab.research.google.com/assets/colab-badge.svg\" alt=\"Open In Colab\"/></a>"
      ]
    },
    {
      "cell_type": "markdown",
      "source": [
        "$ Cov(X,Y) = E[XY^T] − E[X]⋅E[Y]"
      ],
      "metadata": {
        "id": "sGl6QqMGNOn3"
      }
    },
    {
      "cell_type": "code",
      "execution_count": 1,
      "metadata": {
        "id": "whaBKqOej8Uc",
        "colab": {
          "base_uri": "https://localhost:8080/"
        },
        "outputId": "b811ca84-83a0-4959-fea4-c024e06b331b"
      },
      "outputs": [
        {
          "output_type": "stream",
          "name": "stdout",
          "text": [
            "Covarianza (Cov(X,Y)):\n",
            " [[ 1.  0. -1.]\n",
            " [ 0.  0.  0.]\n",
            " [-1.  0.  1.]]\n",
            "E[X] * E[Y]: 10.0\n"
          ]
        }
      ],
      "source": [
        "import numpy as np\n",
        "\n",
        "# Definición de los vectores aleatorios X y Y\n",
        "X = np.array([1, 2, 3])  # Por ejemplo\n",
        "Y = np.array([4, 5, 6])  # Por ejemplo\n",
        "\n",
        "# Cálculo de la media de X y Y\n",
        "mu_X = np.mean(X)\n",
        "mu_Y = np.mean(Y)\n",
        "\n",
        "# Cálculo de E[XY^T]\n",
        "EXY_T = np.outer(X, Y)\n",
        "\n",
        "# Covarianza entre X e Y\n",
        "Cov_XY = EXY_T - np.outer(X, mu_Y) - np.outer(mu_X, Y) + mu_X * mu_Y\n",
        "\n",
        "# Cálculo de E[X] * E[Y]\n",
        "EX_EY = mu_X * mu_Y\n",
        "\n",
        "# Mostrar los resultados\n",
        "print(\"Covarianza (Cov(X,Y)):\\n\", Cov_XY)\n",
        "print(\"E[X] * E[Y]:\", EX_EY)"
      ]
    },
    {
      "cell_type": "markdown",
      "source": [
        "Cov(X,Y)=E[(X−μX)(Y−μY)]=E[XY]−E[X]⋅E[Y]."
      ],
      "metadata": {
        "id": "hjmFXMeoNWlm"
      }
    },
    {
      "cell_type": "code",
      "source": [
        "import numpy as np\n",
        "\n",
        "# Definición de los vectores aleatorios X y Y\n",
        "X = np.array([1, 2, 3])  # Por ejemplo\n",
        "Y = np.array([4, 5, 6])  # Por ejemplo\n",
        "\n",
        "# Cálculo de la media de X y Y\n",
        "mu_X = np.mean(X)\n",
        "mu_Y = np.mean(Y)\n",
        "\n",
        "# Cálculo de E[(X - mu_X)(Y - mu_Y)]\n",
        "EXY = np.mean((X - mu_X) * (Y - mu_Y))\n",
        "\n",
        "# Cálculo de E[XY]\n",
        "EXY_2 = np.mean(X * Y)\n",
        "\n",
        "# Cálculo de E[X] * E[Y]\n",
        "EX_EY = mu_X * mu_Y\n",
        "\n",
        "# Mostrar los resultados\n",
        "print(\"Covarianza (Cov(X,Y)):\", EXY)\n",
        "print(\"E[XY]:\", EXY_2)\n",
        "print(\"E[X] * E[Y]:\", EX_EY)"
      ],
      "metadata": {
        "colab": {
          "base_uri": "https://localhost:8080/"
        },
        "id": "B6ebWe93Nns_",
        "outputId": "e58af694-6091-4975-e775-bb0729553541"
      },
      "execution_count": 5,
      "outputs": [
        {
          "output_type": "stream",
          "name": "stdout",
          "text": [
            "Covarianza (Cov(X,Y)): 0.6666666666666666\n",
            "E[XY]: 10.666666666666666\n",
            "E[X] * E[Y]: 10.0\n"
          ]
        }
      ]
    },
    {
      "cell_type": "markdown",
      "source": [
        "$ Cov(X,Y) = E[(X−μ X)^2 = E[X^2] - E^2[X]"
      ],
      "metadata": {
        "id": "l6cofCL5O8S-"
      }
    },
    {
      "cell_type": "code",
      "source": [
        "import numpy as np\n",
        "\n",
        "# Definición de los datos\n",
        "X = np.array([1, 2, 3, 4, 5])  # Por ejemplo\n",
        "\n",
        "# Cálculo de la media de X\n",
        "mu_X = np.mean(X)\n",
        "\n",
        "# Cálculo de E[(X - mu_X)^2]\n",
        "EX_minus_mu_X_sq = np.mean((X - mu_X)**2)\n",
        "\n",
        "# Cálculo de E[X^2]\n",
        "EX_sq = np.mean(X**2)\n",
        "\n",
        "# Cálculo de (E[X])^2\n",
        "EX_sq_mean = np.mean(X)**2\n",
        "\n",
        "# Mostrar los resultados\n",
        "print(\"Covarianza (E[(X - mu_X)^2]):\", EX_minus_mu_X_sq)\n",
        "print(\"E[X^2]:\", EX_sq)\n",
        "print(\"(E[X])^2:\", EX_sq_mean)"
      ],
      "metadata": {
        "colab": {
          "base_uri": "https://localhost:8080/"
        },
        "id": "Ropt59WjNv9n",
        "outputId": "25a840ca-2ce0-4504-fcb8-4fba05f0d4e6"
      },
      "execution_count": 6,
      "outputs": [
        {
          "output_type": "stream",
          "name": "stdout",
          "text": [
            "Covarianza (E[(X - mu_X)^2]): 2.0\n",
            "E[X^2]: 11.0\n",
            "(E[X])^2: 9.0\n"
          ]
        }
      ]
    }
  ]
}